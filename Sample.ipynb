{
  "nbformat": 4,
  "nbformat_minor": 0,
  "metadata": {
    "colab": {
      "provenance": [],
      "include_colab_link": true
    },
    "kernelspec": {
      "name": "python3",
      "display_name": "Python 3"
    },
    "language_info": {
      "name": "python"
    }
  },
  "cells": [
    {
      "cell_type": "markdown",
      "metadata": {
        "id": "view-in-github",
        "colab_type": "text"
      },
      "source": [
        "<a href=\"https://colab.research.google.com/github/HariPerinchery/Datascience_exp/blob/main/Sample.ipynb\" target=\"_parent\"><img src=\"https://colab.research.google.com/assets/colab-badge.svg\" alt=\"Open In Colab\"/></a>"
      ]
    },
    {
      "cell_type": "code",
      "execution_count": 1,
      "metadata": {
        "id": "CWvC4xIL2U98"
      },
      "outputs": [],
      "source": [
        "import pandas as pd\n",
        "import numpy as np\n",
        "from sklearn.linear_model import LinearRegression\n",
        "import seaborn as sns\n",
        "from matplotlib.pyplot import plot"
      ]
    },
    {
      "cell_type": "markdown",
      "source": [
        "Ingest"
      ],
      "metadata": {
        "id": "M54Nc6aK2XFa"
      }
    },
    {
      "cell_type": "code",
      "source": [],
      "metadata": {
        "id": "Zka5BYUG2YDc"
      },
      "execution_count": null,
      "outputs": []
    }
  ]
}
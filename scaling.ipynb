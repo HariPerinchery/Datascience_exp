{
  "nbformat": 4,
  "nbformat_minor": 0,
  "metadata": {
    "colab": {
      "provenance": [],
      "authorship_tag": "ABX9TyPYqKk3mUKgMu27rR9Y/gSC",
      "include_colab_link": true
    },
    "kernelspec": {
      "name": "python3",
      "display_name": "Python 3"
    },
    "language_info": {
      "name": "python"
    }
  },
  "cells": [
    {
      "cell_type": "markdown",
      "metadata": {
        "id": "view-in-github",
        "colab_type": "text"
      },
      "source": [
        "<a href=\"https://colab.research.google.com/github/HariPerinchery/Datascience_exp/blob/main/scaling.ipynb\" target=\"_parent\"><img src=\"https://colab.research.google.com/assets/colab-badge.svg\" alt=\"Open In Colab\"/></a>"
      ]
    },
    {
      "cell_type": "markdown",
      "source": [
        "Import libraries"
      ],
      "metadata": {
        "id": "FXt2ifKhkOHX"
      }
    },
    {
      "cell_type": "code",
      "execution_count": 2,
      "metadata": {
        "id": "otzVeMcP7enS"
      },
      "outputs": [],
      "source": [
        "import pandas as pd\n",
        "import numpy as np\n",
        "from sklearn.preprocessing import StandardScaler"
      ]
    },
    {
      "cell_type": "markdown",
      "source": [
        "Ingest dataset"
      ],
      "metadata": {
        "id": "s_nye5-gkV7W"
      }
    },
    {
      "cell_type": "code",
      "source": [
        "df = pd.read_csv('https://hkmldatasets.blob.core.windows.net/mldatasets/netflix_titles.csv')"
      ],
      "metadata": {
        "id": "C_o2PbnhkZrQ"
      },
      "execution_count": 6,
      "outputs": []
    },
    {
      "cell_type": "code",
      "source": [],
      "metadata": {
        "id": "zcnlNFoKlwZo"
      },
      "execution_count": null,
      "outputs": []
    }
  ]
}